{
  "nbformat": 4,
  "nbformat_minor": 0,
  "metadata": {
    "colab": {
      "name": "Untitled1.ipynb",
      "provenance": []
    },
    "kernelspec": {
      "name": "python3",
      "display_name": "Python 3"
    },
    "language_info": {
      "name": "python"
    }
  },
  "cells": [
    {
      "cell_type": "code",
      "execution_count": null,
      "metadata": {
        "id": "QjedmzKcwTFF"
      },
      "outputs": [],
      "source": [
        "Write a function that takes an array of numbers (integers for the tests) and a target number. It should find two different items in the array that, when added together, give the target value. The indices of these items should then be returned in a tuple like so: (index1, index2).\n",
        "\n",
        "For the purposes of this kata, some tests may have multiple answers; any valid solutions will be accepted.\n",
        "\n",
        "The input will always be valid (numbers will be an array of length 2 or greater, and all of the items will be numbers; target will always be the sum of two different items from that array).\n",
        "\n",
        "Based on: http://oj.leetcode.com/problems/two-sum/"
      ]
    },
    {
      "cell_type": "code",
      "source": [
        "def two_sum(numbers, target):\n",
        "    dif = {}\n",
        "    for i in range(len(numbers)):\n",
        "        value = target - numbers[i]\n",
        "        if numbers[i] in dif.values():\n",
        "            return [list(dif.values()).index(numbers[i]),i]\n",
        "        dif[i] = value"
      ],
      "metadata": {
        "id": "LjlBhd4fwe19"
      },
      "execution_count": null,
      "outputs": []
    }
  ]
}