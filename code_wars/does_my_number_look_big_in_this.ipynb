{
 "cells": [
  {
   "cell_type": "markdown",
   "metadata": {},
   "source": [
    "# Task\n",
    "A Narcissistic Number is a positive number which is the sum of its own digits, each raised to the power of the number of digits in a given base. In this Kata, we will restrict ourselves to decimal (base 10).\n",
    "\n",
    "For example, take 153 (3 digits), which is narcisstic:\n",
    "        1^3 + 5^3 + 3^3 = 1 + 125 + 27 = 153\n",
    "        \n",
    "and 1652 (4 digits), which isn't:\n",
    "        1^4 + 6^4 + 5^4 + 2^4 = 1 + 1296 + 625 + 16 = 1938\n",
    "        \n",
    "# The Challenge:\n",
    "\n",
    "Your code must return true or false depending upon whether the given number is a Narcissistic number in base 10.\n",
    "\n",
    "Error checking for text strings or other invalid inputs is not required, only valid positive non-zero integers will be passed into the function. "
   ]
  },
  {
   "cell_type": "code",
   "execution_count": null,
   "metadata": {},
   "outputs": [],
   "source": [
    "#My solution\n",
    "\n",
    "def narcissistic(value):\n",
    "    if len(str(value)) == 1:\n",
    "        return True\n",
    "    else:\n",
    "        c = 0\n",
    "        for i in str(value):\n",
    "            c = c + int(i) ** len(str(value))\n",
    "        return c == value"
   ]
  },
  {
   "cell_type": "code",
   "execution_count": null,
   "metadata": {},
   "outputs": [],
   "source": [
    "#Best solution\n",
    "\n",
    "def narcissistic(value):\n",
    "    return value == sum(int(x) ** len(str(value)) for x in str(value))"
   ]
  }
 ],
 "metadata": {
  "kernelspec": {
   "display_name": "Python 3",
   "language": "python",
   "name": "python3"
  },
  "language_info": {
   "codemirror_mode": {
    "name": "ipython",
    "version": 3
   },
   "file_extension": ".py",
   "mimetype": "text/x-python",
   "name": "python",
   "nbconvert_exporter": "python",
   "pygments_lexer": "ipython3",
   "version": "3.8.5"
  }
 },
 "nbformat": 4,
 "nbformat_minor": 4
}
