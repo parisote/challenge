{
 "cells": [
  {
   "cell_type": "markdown",
   "metadata": {},
   "source": [
    "# Task\n",
    "\n",
    "Write an algorithm that takes an array and moves all of the zeros to the end, preserving the order of the other elements.\n",
    "\n",
    "move_zeros([False,1,0,1,2,0,1,3,\"a\"]) #returns[False,1,1,2,1,3,\"a\",0,0]"
   ]
  },
  {
   "cell_type": "code",
   "execution_count": null,
   "metadata": {},
   "outputs": [],
   "source": [
    "#My solution\n",
    "\n",
    "def move_zeros(array):\n",
    "    a = []\n",
    "    count = 0\n",
    "    for x in array:\n",
    "        if type(x) == int or type(x) == float:   \n",
    "            if x != 0:\n",
    "                a.append(x)\n",
    "            else:\n",
    "                count = count + 1\n",
    "        else:\n",
    "            a.append(x)\n",
    "            \n",
    "    c = 0\n",
    "    while(c < count):\n",
    "        a.append(0)\n",
    "        c = c + 1\n",
    "    \n",
    "    return a"
   ]
  },
  {
   "cell_type": "code",
   "execution_count": null,
   "metadata": {},
   "outputs": [],
   "source": [
    "#Best solution\n",
    "\n",
    "def move_zeros(arr):\n",
    "    l = [i for i in arr if isinstance(i, bool) or i!=0]\n",
    "    return l+[0]*(len(arr)-len(l))"
   ]
  }
 ],
 "metadata": {
  "kernelspec": {
   "display_name": "Python 3",
   "language": "python",
   "name": "python3"
  },
  "language_info": {
   "codemirror_mode": {
    "name": "ipython",
    "version": 3
   },
   "file_extension": ".py",
   "mimetype": "text/x-python",
   "name": "python",
   "nbconvert_exporter": "python",
   "pygments_lexer": "ipython3",
   "version": "3.8.5"
  }
 },
 "nbformat": 4,
 "nbformat_minor": 4
}
