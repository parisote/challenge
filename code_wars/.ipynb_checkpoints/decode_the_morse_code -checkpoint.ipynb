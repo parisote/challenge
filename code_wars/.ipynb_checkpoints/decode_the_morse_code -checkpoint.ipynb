{
 "cells": [
  {
   "cell_type": "markdown",
   "metadata": {},
   "source": [
    "In this kata you have to write a simple Morse code decoder. While the Morse code is now mostly superseded by voice and digital data communication channels, it still has its use in some applications around the world.\n",
    "\n",
    "The Morse code encodes every character as a sequence of \"dots\" and \"dashes\". For example, the letter A is coded as ·−, letter Q is coded as −−·−, and digit 1 is coded as ·−−−−. The Morse code is case-insensitive, traditionally capital letters are used. When the message is written in Morse code, a single space is used to separate the character codes and 3 spaces are used to separate words. For example, the message HEY JUDE in Morse code is ···· · −·−−   ·−−− ··− −·· ·.\n",
    "\n",
    "NOTE: Extra spaces before or after the code have no meaning and should be ignored.\n",
    "\n",
    "In addition to letters, digits and some punctuation, there are some special service codes, the most notorious of those is the international distress signal SOS (that was first issued by Titanic), that is coded as ···−−−···. These special codes are treated as single special characters, and usually are transmitted as separate words.\n",
    "\n",
    "Your task is to implement a function that would take the morse code as input and return a decoded human-readable string.\n",
    "\n",
    "For example:\n",
    "decodeMorse('.... . -.--   .--- ..- -.. .')\n",
    "#should return \"HEY JUDE\""
   ]
  },
  {
   "cell_type": "code",
   "execution_count": null,
   "metadata": {},
   "outputs": [],
   "source": [
    "#My solution\n",
    "\n",
    "def decodeMorse(morse_code):    \n",
    "    decipher = ''\n",
    "    citext = ''\n",
    "    i=0\n",
    "    \n",
    "    for letter in list(morse_code)[:-1]:\n",
    "        if (letter != ' '): \n",
    "            i = 0\n",
    "            citext += letter \n",
    "        else: \n",
    "            i += 1\n",
    "            if i == 2 : \n",
    "                decipher += ' '\n",
    "            elif citext != '':\n",
    "                decipher += MORSE_CODE[citext]\n",
    "                citext = '' \n",
    "\n",
    "    if list(morse_code)[-1] != ' ':\n",
    "        citext+=list(morse_code)[-1]\n",
    "    if citext != '':   \n",
    "        decipher += MORSE_CODE[citext]\n",
    "\n",
    "    return decipher.strip()"
   ]
  },
  {
   "cell_type": "code",
   "execution_count": null,
   "metadata": {},
   "outputs": [],
   "source": [
    "#Best solution\n",
    "\n",
    "def decodeMorse(morseCode):\n",
    "    return ' '.join(''.join(MORSE_CODE[letter] for letter in word.split(' ')) for word in morseCode.strip().split('   '))"
   ]
  }
 ],
 "metadata": {
  "kernelspec": {
   "display_name": "Python 3",
   "language": "python",
   "name": "python3"
  },
  "language_info": {
   "codemirror_mode": {
    "name": "ipython",
    "version": 3
   },
   "file_extension": ".py",
   "mimetype": "text/x-python",
   "name": "python",
   "nbconvert_exporter": "python",
   "pygments_lexer": "ipython3",
   "version": "3.8.5"
  }
 },
 "nbformat": 4,
 "nbformat_minor": 4
}
