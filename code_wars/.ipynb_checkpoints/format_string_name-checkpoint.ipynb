{
 "cells": [
  {
   "cell_type": "markdown",
   "metadata": {},
   "source": [
    "Given: an array containing hashes of names\n",
    "\n",
    "Return: a string formatted as a list of names separated by commas except for the last two names, which should be separated by an ampersand.\n",
    "\n",
    "Example:\n",
    "    namelist([ {'name': 'Bart'}, {'name': 'Lisa'}, {'name': 'Maggie'} ])\n",
    "    # returns 'Bart, Lisa & Maggie'\n",
    "\n",
    "    namelist([ {'name': 'Bart'}, {'name': 'Lisa'} ])\n",
    "    # returns 'Bart & Lisa'\n",
    "\n",
    "    namelist([ {'name': 'Bart'} ])\n",
    "    # returns 'Bart'\n",
    "\n",
    "    namelist([])\n",
    "    # returns ''"
   ]
  },
  {
   "cell_type": "code",
   "execution_count": null,
   "metadata": {},
   "outputs": [],
   "source": [
    "#my solution\n",
    "\n",
    "def namelist(names):\n",
    "    arr = ''\n",
    "    if len(names) == 1:\n",
    "        return names[0]['name']\n",
    "    \n",
    "    for i in range(len(names)):\n",
    "        if i == len(names)-1:\n",
    "            arr+=\" & \"  \n",
    "        elif i != 0:\n",
    "            arr += \", \"        \n",
    "            \n",
    "        arr+=names[i]['name']\n",
    "\n",
    "    return arr"
   ]
  },
  {
   "cell_type": "code",
   "execution_count": null,
   "metadata": {},
   "outputs": [],
   "source": [
    "#best solution\n",
    "\n",
    "def namelist(names):\n",
    "    if len(names) > 1:\n",
    "        return '{} & {}'.format(', '.join(name['name'] for name in names[:-1]), \n",
    "                                names[-1]['name'])\n",
    "    elif names:\n",
    "        return names[0]['name']\n",
    "    else:\n",
    "        return ''"
   ]
  }
 ],
 "metadata": {
  "kernelspec": {
   "display_name": "Python 3",
   "language": "python",
   "name": "python3"
  },
  "language_info": {
   "codemirror_mode": {
    "name": "ipython",
    "version": 3
   },
   "file_extension": ".py",
   "mimetype": "text/x-python",
   "name": "python",
   "nbconvert_exporter": "python",
   "pygments_lexer": "ipython3",
   "version": "3.8.5"
  }
 },
 "nbformat": 4,
 "nbformat_minor": 4
}
