{
  "nbformat": 4,
  "nbformat_minor": 0,
  "metadata": {
    "colab": {
      "name": "Untitled1.ipynb",
      "provenance": []
    },
    "kernelspec": {
      "name": "python3",
      "display_name": "Python 3"
    },
    "language_info": {
      "name": "python"
    }
  },
  "cells": [
    {
      "cell_type": "code",
      "execution_count": null,
      "metadata": {
        "id": "QjedmzKcwTFF"
      },
      "outputs": [],
      "source": [
        "A stream of data is received and needs to be reversed.\n",
        "\n",
        "Each segment is 8 bits long, meaning the order of these segments needs to be reversed, for example:\n",
        "\n",
        "11111111  00000000  00001111  10101010\n",
        " (byte1)   (byte2)   (byte3)   (byte4)\n",
        "should become:\n",
        "\n",
        "10101010  00001111  00000000  11111111\n",
        " (byte4)   (byte3)   (byte2)   (byte1)\n",
        "The total number of bits will always be a multiple of 8.\n",
        "\n",
        "The data is given in an array as such:\n",
        "\n",
        "[1,1,1,1,1,1,1,1,0,0,0,0,0,0,0,0,0,0,0,0,1,1,1,1,1,0,1,0,1,0,1,0]\n",
        "Note: In the C and NASM languages you are given the third parameter which is the number of segment blocks."
      ]
    },
    {
      "cell_type": "code",
      "source": [
        "def data_reverse(data):\n",
        "    result = []\n",
        "    for i in range(len(data),0,-8): \n",
        "        result += data[i-8:i]\n",
        "    return result"
      ],
      "metadata": {
        "id": "LjlBhd4fwe19"
      },
      "execution_count": null,
      "outputs": []
    }
  ]
}