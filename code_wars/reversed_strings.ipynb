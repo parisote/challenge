{
  "nbformat": 4,
  "nbformat_minor": 0,
  "metadata": {
    "colab": {
      "name": "Untitled1.ipynb",
      "provenance": []
    },
    "kernelspec": {
      "name": "python3",
      "display_name": "Python 3"
    },
    "language_info": {
      "name": "python"
    }
  },
  "cells": [
    {
      "cell_type": "code",
      "execution_count": null,
      "metadata": {
        "id": "QjedmzKcwTFF"
      },
      "outputs": [],
      "source": [
        "Complete the solution so that it reverses the string passed into it.\n",
        "'world'  =>  'dlrow'\n",
        "'word'   =>  'drow'"
      ]
    },
    {
      "cell_type": "code",
      "source": [
        "def solution(string):\n",
        "    result = ''\n",
        "    for i in range(len(string)):\n",
        "        result += string[len(string)-i-1]\n",
        "    return result"
      ],
      "metadata": {
        "id": "LjlBhd4fwe19"
      },
      "execution_count": null,
      "outputs": []
    }
  ]
}